{
 "cells": [
  {
   "cell_type": "code",
   "execution_count": 3,
   "id": "a2d8df1e-2f70-4d3d-9a50-6bc3de3392ae",
   "metadata": {
    "tags": []
   },
   "outputs": [
    {
     "name": "stdin",
     "output_type": "stream",
     "text": [
      "Введите слово:  test\n"
     ]
    },
    {
     "name": "stdout",
     "output_type": "stream",
     "text": [
      "Средние буквы: es\n"
     ]
    }
   ],
   "source": [
    "# 1 задание\n",
    "word = input(\"Введите слово: \")\n",
    "\n",
    "length = len(word)\n",
    "if length % 2 == 0:\n",
    "    # Если длина слова чётная, выводим две средние буквы\n",
    "    print(\"Средние буквы:\", word[length // 2 - 1:length // 2 + 1])\n",
    "else:\n",
    "    # Если длина слова нечётная, выводим одну среднюю букву\n",
    "    print(\"Средняя буква:\", word[length // 2])"
   ]
  },
  {
   "cell_type": "code",
   "execution_count": 9,
   "id": "bc55d9e8-13ed-477b-b1c2-0e1e83c96670",
   "metadata": {
    "tags": []
   },
   "outputs": [
    {
     "name": "stdout",
     "output_type": "stream",
     "text": [
      "Пары:\n",
      "Peter и Kate\n",
      "Alex и Liza\n",
      "John и Kira\n",
      "Arthur и Emma\n",
      "Richard и Trisha\n"
     ]
    }
   ],
   "source": [
    "# 2 задание\n",
    "boys = ['Peter', 'Alex', 'John', 'Arthur', 'Richard']\n",
    "girls = ['Kate', 'Liza', 'Kira', 'Emma', 'Trisha']\n",
    "\n",
    "# Проверяем, что количество юношей и девушек совпадает\n",
    "if len(boys) != len(girls):\n",
    "    print(\"Внимание, кто-то может остаться без пары!\")\n",
    "else:\n",
    "    # Сортируем списки по алфавиту\n",
    "    boys_sorted = sorted(boys)\n",
    "    girls_sorted = sorted(girls)\n",
    "\n",
    "    print(\"Пары:\")\n",
    "    for i in range(len(girls)):\n",
    "        print(boys[i], 'и', girls[i])"
   ]
  },
  {
   "cell_type": "code",
   "execution_count": null,
   "id": "4ae0dd44-9abd-4768-87b0-6f4c8cb16c8c",
   "metadata": {},
   "outputs": [],
   "source": []
  },
  {
   "cell_type": "code",
   "execution_count": null,
   "id": "c1665706-c743-4df5-862d-48f6be49dca4",
   "metadata": {},
   "outputs": [],
   "source": []
  }
 ],
 "metadata": {
  "kernelspec": {
   "display_name": "Python 3",
   "language": "python",
   "name": "python3"
  },
  "language_info": {
   "codemirror_mode": {
    "name": "ipython",
    "version": 3
   },
   "file_extension": ".py",
   "mimetype": "text/x-python",
   "name": "python",
   "nbconvert_exporter": "python",
   "pygments_lexer": "ipython3",
   "version": "3.7.2"
  }
 },
 "nbformat": 4,
 "nbformat_minor": 5
}
