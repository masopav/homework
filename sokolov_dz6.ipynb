{
 "cells": [
  {
   "cell_type": "code",
   "execution_count": 1,
   "id": "7e7a6727-0d0e-42fe-87af-5ee2f9226b6b",
   "metadata": {
    "tags": []
   },
   "outputs": [],
   "source": [
    "documents = [\n",
    " {'type': 'passport', 'number': '2207 876234', 'name': 'Василий Гупкин'},\n",
    " {'type': 'invoice', 'number': '11-2', 'name': 'Геннадий Покемонов'},\n",
    " {'type': 'insurance', 'number': '10006', 'name': 'Аристарх Павлов'}\n",
    "]\n",
    "\n",
    "directories = {\n",
    " '1': ['2207 876234', '11-2'],\n",
    " '2': ['10006'],\n",
    " '3': []\n",
    "}"
   ]
  },
  {
   "cell_type": "code",
   "execution_count": null,
   "id": "cada6630-3245-4808-a62d-ed97ed07ab1f",
   "metadata": {
    "tags": []
   },
   "outputs": [
    {
     "name": "stdin",
     "output_type": "stream",
     "text": [
      "Введите команду: s\n",
      "Введите номер документа: 10006\n"
     ]
    },
    {
     "name": "stdout",
     "output_type": "stream",
     "text": [
      "Документ хранится на полке: 2\n"
     ]
    }
   ],
   "source": [
    "def p_command(number):\n",
    "    for el in documents:\n",
    "        if el['number'] == number:\n",
    "            return el['name']\n",
    "            break\n",
    "\n",
    "def s_command(number):\n",
    "    for key, value in directories.items():\n",
    "        if number in value:\n",
    "            return key\n",
    "            break\n",
    "\n",
    "while True:\n",
    "    command = input('Введите команду:')\n",
    "    if command == 'p':\n",
    "        number = input('Введите номер документа:')\n",
    "        name = p_command(number)\n",
    "        print('Владелец документа:', name)\n",
    "    elif command == 's':\n",
    "        number = input('Введите номер документа:')\n",
    "        shelf = s_command(number)\n",
    "        print('Документ хранится на полке:', shelf)\n",
    "    elif command == 'q':\n",
    "        break\n",
    "    else:\n",
    "        print('Неверная команда')"
   ]
  },
  {
   "cell_type": "code",
   "execution_count": null,
   "id": "ddd2d358-1023-4820-acf3-408b43ec5408",
   "metadata": {},
   "outputs": [],
   "source": []
  }
 ],
 "metadata": {
  "kernelspec": {
   "display_name": "Python 3",
   "language": "python",
   "name": "python3"
  },
  "language_info": {
   "codemirror_mode": {
    "name": "ipython",
    "version": 3
   },
   "file_extension": ".py",
   "mimetype": "text/x-python",
   "name": "python",
   "nbconvert_exporter": "python",
   "pygments_lexer": "ipython3",
   "version": "3.7.2"
  }
 },
 "nbformat": 4,
 "nbformat_minor": 5
}
