{
 "cells": [
  {
   "cell_type": "code",
   "execution_count": 1,
   "id": "54e331c2-2d00-4205-b557-44b316bad763",
   "metadata": {
    "tags": []
   },
   "outputs": [],
   "source": [
    "import pandas as pd\n",
    "import numpy as np\n",
    "import matplotlib.pyplot as plt\n",
    "from scipy.stats import norm\n",
    "import seaborn as sns\n",
    "import statsmodels.api as sm\n",
    "from statsmodels.formula.api import ols"
   ]
  },
  {
   "cell_type": "markdown",
   "id": "3991eafe-68b2-4bd3-8097-8d012ade2714",
   "metadata": {},
   "source": [
    "Задание 1. \n",
    "\n",
    "Загрузите в библиотеку Pandas DataFrame из CSV-файла исходные данные о покупателях с веб-портала (все строки). При необходимости преобразуйте данные."
   ]
  },
  {
   "cell_type": "code",
   "execution_count": 2,
   "id": "02a0ca44-3299-4f07-905d-9c0b45df9687",
   "metadata": {
    "tags": []
   },
   "outputs": [
    {
     "data": {
      "text/html": [
       "<div>\n",
       "<style scoped>\n",
       "    .dataframe tbody tr th:only-of-type {\n",
       "        vertical-align: middle;\n",
       "    }\n",
       "\n",
       "    .dataframe tbody tr th {\n",
       "        vertical-align: top;\n",
       "    }\n",
       "\n",
       "    .dataframe thead th {\n",
       "        text-align: right;\n",
       "    }\n",
       "</style>\n",
       "<table border=\"1\" class=\"dataframe\">\n",
       "  <thead>\n",
       "    <tr style=\"text-align: right;\">\n",
       "      <th></th>\n",
       "      <th>name</th>\n",
       "      <th>device_type</th>\n",
       "      <th>browser</th>\n",
       "      <th>sex</th>\n",
       "      <th>age</th>\n",
       "      <th>bill</th>\n",
       "      <th>region</th>\n",
       "    </tr>\n",
       "  </thead>\n",
       "  <tbody>\n",
       "    <tr>\n",
       "      <th>0</th>\n",
       "      <td>Allen  Miss. Elisabeth Walton</td>\n",
       "      <td>mobile</td>\n",
       "      <td>Chrome</td>\n",
       "      <td>female</td>\n",
       "      <td>29.0</td>\n",
       "      <td>885.0</td>\n",
       "      <td>St Louis: MO</td>\n",
       "    </tr>\n",
       "    <tr>\n",
       "      <th>1</th>\n",
       "      <td>Allison  Master. Hudson Trevor</td>\n",
       "      <td>tablet</td>\n",
       "      <td>Opera</td>\n",
       "      <td>male</td>\n",
       "      <td>48.0</td>\n",
       "      <td>850.0</td>\n",
       "      <td>Montreal: PQ / Chesterville: ON</td>\n",
       "    </tr>\n",
       "    <tr>\n",
       "      <th>2</th>\n",
       "      <td>Allison  Miss. Helen Loraine</td>\n",
       "      <td>laptop</td>\n",
       "      <td>Firefox</td>\n",
       "      <td>female</td>\n",
       "      <td>48.0</td>\n",
       "      <td>1034.0</td>\n",
       "      <td>Montreal: PQ / Chesterville: ON</td>\n",
       "    </tr>\n",
       "    <tr>\n",
       "      <th>3</th>\n",
       "      <td>Allison  Mr. Hudson Joshua Creighton</td>\n",
       "      <td>desktop</td>\n",
       "      <td>Internet Explorer</td>\n",
       "      <td>male</td>\n",
       "      <td>30.0</td>\n",
       "      <td>214.0</td>\n",
       "      <td>Montreal: PQ / Chesterville: ON</td>\n",
       "    </tr>\n",
       "    <tr>\n",
       "      <th>4</th>\n",
       "      <td>Allison  Mrs. Hudson J C (Bessie Waldo Daniels)</td>\n",
       "      <td>laptop</td>\n",
       "      <td>Firefox</td>\n",
       "      <td>female</td>\n",
       "      <td>25.0</td>\n",
       "      <td>993.0</td>\n",
       "      <td>Montreal: PQ / Chesterville: ON</td>\n",
       "    </tr>\n",
       "    <tr>\n",
       "      <th>...</th>\n",
       "      <td>...</td>\n",
       "      <td>...</td>\n",
       "      <td>...</td>\n",
       "      <td>...</td>\n",
       "      <td>...</td>\n",
       "      <td>...</td>\n",
       "      <td>...</td>\n",
       "    </tr>\n",
       "    <tr>\n",
       "      <th>910</th>\n",
       "      <td>Kallio  Mr. Nikolai Erland</td>\n",
       "      <td>tablet</td>\n",
       "      <td>Opera</td>\n",
       "      <td>male</td>\n",
       "      <td>17.0</td>\n",
       "      <td>1273.0</td>\n",
       "      <td>NaN</td>\n",
       "    </tr>\n",
       "    <tr>\n",
       "      <th>911</th>\n",
       "      <td>Kalvik  Mr. Johannes Halvorsen</td>\n",
       "      <td>mobile</td>\n",
       "      <td>Opera</td>\n",
       "      <td>male</td>\n",
       "      <td>21.0</td>\n",
       "      <td>1136.0</td>\n",
       "      <td>NaN</td>\n",
       "    </tr>\n",
       "    <tr>\n",
       "      <th>912</th>\n",
       "      <td>Karaic  Mr. Milan</td>\n",
       "      <td>desktop</td>\n",
       "      <td>Opera</td>\n",
       "      <td>male</td>\n",
       "      <td>30.0</td>\n",
       "      <td>465.0</td>\n",
       "      <td>NaN</td>\n",
       "    </tr>\n",
       "    <tr>\n",
       "      <th>913</th>\n",
       "      <td>Karlsson  Mr. Einar Gervasius</td>\n",
       "      <td>desktop</td>\n",
       "      <td>Internet Explorer</td>\n",
       "      <td>male</td>\n",
       "      <td>21.0</td>\n",
       "      <td>275.0</td>\n",
       "      <td>NaN</td>\n",
       "    </tr>\n",
       "    <tr>\n",
       "      <th>914</th>\n",
       "      <td>Karlsson  Mr. Julius Konrad Eugen</td>\n",
       "      <td>laptop</td>\n",
       "      <td>Opera</td>\n",
       "      <td>male</td>\n",
       "      <td>33.0</td>\n",
       "      <td>798.0</td>\n",
       "      <td>NaN</td>\n",
       "    </tr>\n",
       "  </tbody>\n",
       "</table>\n",
       "<p>915 rows × 7 columns</p>\n",
       "</div>"
      ],
      "text/plain": [
       "                                                name device_type  \\\n",
       "0                      Allen  Miss. Elisabeth Walton      mobile   \n",
       "1                     Allison  Master. Hudson Trevor      tablet   \n",
       "2                       Allison  Miss. Helen Loraine      laptop   \n",
       "3               Allison  Mr. Hudson Joshua Creighton     desktop   \n",
       "4    Allison  Mrs. Hudson J C (Bessie Waldo Daniels)      laptop   \n",
       "..                                               ...         ...   \n",
       "910                       Kallio  Mr. Nikolai Erland      tablet   \n",
       "911                   Kalvik  Mr. Johannes Halvorsen      mobile   \n",
       "912                                Karaic  Mr. Milan     desktop   \n",
       "913                    Karlsson  Mr. Einar Gervasius     desktop   \n",
       "914                Karlsson  Mr. Julius Konrad Eugen      laptop   \n",
       "\n",
       "               browser     sex   age    bill                           region  \n",
       "0               Chrome  female  29.0   885.0                     St Louis: MO  \n",
       "1                Opera    male  48.0   850.0  Montreal: PQ / Chesterville: ON  \n",
       "2              Firefox  female  48.0  1034.0  Montreal: PQ / Chesterville: ON  \n",
       "3    Internet Explorer    male  30.0   214.0  Montreal: PQ / Chesterville: ON  \n",
       "4              Firefox  female  25.0   993.0  Montreal: PQ / Chesterville: ON  \n",
       "..                 ...     ...   ...     ...                              ...  \n",
       "910              Opera    male  17.0  1273.0                              NaN  \n",
       "911              Opera    male  21.0  1136.0                              NaN  \n",
       "912              Opera    male  30.0   465.0                              NaN  \n",
       "913  Internet Explorer    male  21.0   275.0                              NaN  \n",
       "914              Opera    male  33.0   798.0                              NaN  \n",
       "\n",
       "[915 rows x 7 columns]"
      ]
     },
     "execution_count": 2,
     "metadata": {},
     "output_type": "execute_result"
    }
   ],
   "source": [
    "df = pd.read_csv('web_clients_correct.csv', sep=',')\n",
    "df['region'] = df['region'].replace('-', None)\n",
    "df"
   ]
  },
  {
   "cell_type": "code",
   "execution_count": 3,
   "id": "9347b839-0511-409b-8389-23af3267f8c4",
   "metadata": {
    "tags": []
   },
   "outputs": [
    {
     "data": {
      "text/plain": [
       "array(['St Louis', 'Montreal', 'New York', 'Hudson', 'Belfast', 'Bayside',\n",
       "       'Montevideo', 'Paris', nan, 'Hessle', 'Winnipeg', 'San Francisco',\n",
       "       'Dowagiac', 'Stockholm', 'Trenton', 'Glen Ridge', 'Youngstown',\n",
       "       'Birkdale', 'London ', 'Cooperstown', 'St Leonards-on-Sea',\n",
       "       'Pomeroy', 'Omaha', 'Philadelphia', 'Denver', 'Belmont',\n",
       "       'Washington', 'Austria-Hungary ', 'Germantown', 'Bryn Mawr',\n",
       "       'Ascot', 'Little Onn Hall', 'Amenia', 'London', 'Liverpool',\n",
       "       'Los Angeles', 'Stoughton', 'Victoria', 'Lakewood', 'Roachdale',\n",
       "       'Milwaukee', 'Lima', 'Calgary', 'Deephaven', 'Mt Airy',\n",
       "       'Brookline', 'Westcliff-on-Sea', 'Zurich', 'Scituate',\n",
       "       \"St Anne's-on-Sea\", 'Greenwich', 'Brooklyn', 'Kingston',\n",
       "       'Brighton', 'Chicago', 'Bennington', 'Buffalo', 'Southington ',\n",
       "       'Boston', 'Portland', 'Springfield', 'Brockton', 'Vancouver',\n",
       "       'Dorchester', 'East Bridgewater', 'Fond du Lac', 'Green Bay',\n",
       "       'Lexington', 'Isle of Wight', 'Providence', '?Havana',\n",
       "       'Surbiton Hill', 'Isleworth', 'Madrid', 'Toronto', 'Worcester',\n",
       "       'Rotterdam', 'Paris ', 'Seattle', 'London  Vancouver', 'Haverford',\n",
       "       'Manchester', 'Duluth', 'Basel', 'New Britain', 'St James',\n",
       "       'Huntington', 'Streatham', 'Minneapolis', 'Tuxedo Park',\n",
       "       'Wimbledon Park', 'Newark', 'Gallipolis', 'Cincinatti',\n",
       "       'Haddenfield', 'Albany', 'Mexico City', 'East Orange',\n",
       "       'England Salt Lake City', 'Brunswick', 'Elkins Park', 'Geneva',\n",
       "       'Halifax', 'Russia New York', 'Buenos Aires', 'Cornwall',\n",
       "       'Warwick', 'West Hoboken', 'Penzance', 'Guernsey', 'Bristol',\n",
       "       'Plymouth', 'Jacksonville', 'Norwich ', 'England', 'Guntur',\n",
       "       'Rochester', 'St Ives', 'Elmira', 'Lake Arthur', 'Cape Town',\n",
       "       'Skara', 'Sittingbourne', 'Southsea', 'Bangkok', 'Mamaroneck',\n",
       "       'Bronx', 'Cornwall ', 'England ', 'Hartford', 'Helsinki',\n",
       "       'Bishopstoke', 'Pennsylvania', 'Provo', 'Upper Burma', 'Lyndhurst',\n",
       "       'Portugal ', 'Lucca', 'Guernsey ', 'New Forest', 'Southampton',\n",
       "       'Holley', 'Greenport', 'Barcelona', 'Goteborg', 'Oslo', 'Janjgir',\n",
       "       'Liverpool ', 'West Kensington', 'Clevedon', 'Auburn', 'Detroit',\n",
       "       'Denmark Hill', 'Walthamstow', 'Ilford', 'Somerset ', 'India ',\n",
       "       'West Hampstead', 'Kontiolahti', 'Devonport', 'Tokyo', 'Swindon',\n",
       "       'North Evington', 'Moscow ', 'Harrisburg', 'Glasgow ', 'Sweden ',\n",
       "       'Berne', 'Weston-Super-Mare', 'Southampton ', 'St Austall',\n",
       "       'Weston-Super-Mare ', 'Sydney', 'Sarnia', 'Chelsea',\n",
       "       'Harrow-on-the-Hill', 'Copenhagen', 'Frankfort', 'Halesworth',\n",
       "       'Cambridge', 'Nice', 'Glasgow', 'Folkstone', 'Middleburg Heights',\n",
       "       'Pondersend', 'Spain ', 'Hamilton', 'St Andrews',\n",
       "       'Woodford County', 'Gunnislake', 'Ilfracombe', 'Russia',\n",
       "       'Denmark ', 'Milford', 'Elizabeth', 'Spain', 'Hornsey',\n",
       "       'Deer Lodge', 'Finland ', 'Sault St Marie', 'Catford',\n",
       "       'Indianapolis', 'Columbus', 'Barre', 'Aberdeen ', 'Bromsgrove',\n",
       "       'Bournmouth', 'Harrow', 'Yoevil', 'East Providence',\n",
       "       'Norway Los Angeles', 'Perkins County', 'Taalintehdas',\n",
       "       'Greensburg', 'Asarum', 'Bournemouth', 'Sweden Akeley',\n",
       "       'Syria Fredericksburg', 'England Albion', 'Salo', 'Argentina',\n",
       "       'Lower Clapton', 'Windsor', 'Bergen', 'Sweden Winnipeg',\n",
       "       'Ruotsinphyhtaa', 'Vadsbro', 'Sweden Chicago', 'Bulgaria Chicago',\n",
       "       'Altdorf', 'Sweden Joliet', 'Sweden  Worcester',\n",
       "       'Sweden Worcester', 'Oskarshamn', 'Ottawa', 'Krakoryd',\n",
       "       'Syria Youngstown', 'Ruotsinphytaa', 'Syria New York',\n",
       "       'London Skanteales', 'Syria Ottawa', 'England New York',\n",
       "       'Krakudden', 'Tranvik', 'Syria', 'Hong Kong New York', 'Brennes',\n",
       "       'Syria Kent', 'Ireland Chicago', 'Kingwilliamstown', 'Medeltorp',\n",
       "       'Bridgerule', 'Broomfield', 'Co Cork', 'Co Sligo', 'Croatia',\n",
       "       'Ireland Philadelphia', 'Dagsas', 'St Denys', 'Ireland New York',\n",
       "       'Greece', 'Portugal', 'Co Limerick', 'Ireland Brooklyn', 'Ireland',\n",
       "       'Austria', 'Merrill', 'Austria-Hungary', 'Australia Fingal',\n",
       "       'Norrlot', 'Co Athlone', 'Stanton', 'West Bromwich', 'Tampico',\n",
       "       'Belgium Detroit', 'Devon', 'Bulgaria Coon Rapids', 'Kilmacowen',\n",
       "       'England Oglesby', 'Union Hill', 'London New York',\n",
       "       'Austria Niagara Falls', 'West Haven', 'Tofta', 'Karberg',\n",
       "       'Effington Rut', 'Illinois', 'Aughnacliff', 'Italy Philadelphia',\n",
       "       'Bridgwater', 'Rotherfield', 'Co Clare', 'Strood', 'Wiltshire',\n",
       "       'Dorking', 'Foresvik', 'Waukegan', 'Myren'], dtype=object)"
      ]
     },
     "execution_count": 3,
     "metadata": {},
     "output_type": "execute_result"
    }
   ],
   "source": [
    "# стандартизация данных региона\n",
    "df['region'] = df['region'].str.split('/').str[0]\n",
    "df['region'] = df['region'].str.split(':').str[0]\n",
    "df['region'].unique()"
   ]
  },
  {
   "cell_type": "markdown",
   "id": "55381d58-cf7d-4d46-9b52-3d34ee4cb937",
   "metadata": {},
   "source": [
    "Задание 2. \n",
    "\n",
    "Выполните анализ используемых браузеров, устройств, пола, региона, сумм покупки. Сформируйте сводные таблицы с указанием min, max, avg, median по суммам покупки. Чтобы выполнить задание, нужно использовать библиотеку Pandas."
   ]
  },
  {
   "cell_type": "code",
   "execution_count": 9,
   "id": "f8112bc9-58c5-4896-bda3-c26811d5bf0b",
   "metadata": {
    "tags": []
   },
   "outputs": [
    {
     "data": {
      "text/html": [
       "<div>\n",
       "<style scoped>\n",
       "    .dataframe tbody tr th:only-of-type {\n",
       "        vertical-align: middle;\n",
       "    }\n",
       "\n",
       "    .dataframe tbody tr th {\n",
       "        vertical-align: top;\n",
       "    }\n",
       "\n",
       "    .dataframe thead tr th {\n",
       "        text-align: left;\n",
       "    }\n",
       "\n",
       "    .dataframe thead tr:last-of-type th {\n",
       "        text-align: right;\n",
       "    }\n",
       "</style>\n",
       "<table border=\"1\" class=\"dataframe\">\n",
       "  <thead>\n",
       "    <tr>\n",
       "      <th></th>\n",
       "      <th>min</th>\n",
       "      <th>max</th>\n",
       "      <th>median</th>\n",
       "      <th>sum</th>\n",
       "      <th>count</th>\n",
       "      <th>avg</th>\n",
       "    </tr>\n",
       "    <tr>\n",
       "      <th></th>\n",
       "      <th>bill</th>\n",
       "      <th>bill</th>\n",
       "      <th>bill</th>\n",
       "      <th>bill</th>\n",
       "      <th>bill</th>\n",
       "      <th>bill</th>\n",
       "    </tr>\n",
       "    <tr>\n",
       "      <th>device_type</th>\n",
       "      <th></th>\n",
       "      <th></th>\n",
       "      <th></th>\n",
       "      <th></th>\n",
       "      <th></th>\n",
       "      <th></th>\n",
       "    </tr>\n",
       "  </thead>\n",
       "  <tbody>\n",
       "    <tr>\n",
       "      <th>desktop</th>\n",
       "      <td>34.0</td>\n",
       "      <td>1473.0</td>\n",
       "      <td>796.0</td>\n",
       "      <td>166262.0</td>\n",
       "      <td>211</td>\n",
       "      <td>787.97</td>\n",
       "    </tr>\n",
       "    <tr>\n",
       "      <th>laptop</th>\n",
       "      <td>42.0</td>\n",
       "      <td>1477.0</td>\n",
       "      <td>817.0</td>\n",
       "      <td>166412.0</td>\n",
       "      <td>208</td>\n",
       "      <td>800.06</td>\n",
       "    </tr>\n",
       "    <tr>\n",
       "      <th>mobile</th>\n",
       "      <td>45.0</td>\n",
       "      <td>1497.0</td>\n",
       "      <td>735.0</td>\n",
       "      <td>165242.0</td>\n",
       "      <td>223</td>\n",
       "      <td>741.00</td>\n",
       "    </tr>\n",
       "    <tr>\n",
       "      <th>tablet</th>\n",
       "      <td>33.0</td>\n",
       "      <td>1500.0</td>\n",
       "      <td>762.0</td>\n",
       "      <td>174730.0</td>\n",
       "      <td>225</td>\n",
       "      <td>776.58</td>\n",
       "    </tr>\n",
       "  </tbody>\n",
       "</table>\n",
       "</div>"
      ],
      "text/plain": [
       "              min     max median       sum count     avg\n",
       "             bill    bill   bill      bill  bill    bill\n",
       "device_type                                             \n",
       "desktop      34.0  1473.0  796.0  166262.0   211  787.97\n",
       "laptop       42.0  1477.0  817.0  166412.0   208  800.06\n",
       "mobile       45.0  1497.0  735.0  165242.0   223  741.00\n",
       "tablet       33.0  1500.0  762.0  174730.0   225  776.58"
      ]
     },
     "execution_count": 9,
     "metadata": {},
     "output_type": "execute_result"
    }
   ],
   "source": [
    "# Группировка данных по типам устройств \n",
    "tbl_1 = pd.pivot_table(df, index='device_type', values='bill', aggfunc=['min', 'max', 'median', 'sum', 'count'])\n",
    "tbl_1[('avg', 'bill')] = (tbl_1[('sum', 'bill')] / tbl_1[('count', 'bill')]).round(2)\n",
    "tbl_1"
   ]
  },
  {
   "cell_type": "code",
   "execution_count": 6,
   "id": "a89c5cf5-d941-46ce-a3a3-c12a0c9cba33",
   "metadata": {
    "tags": []
   },
   "outputs": [
    {
     "data": {
      "text/html": [
       "<div>\n",
       "<style scoped>\n",
       "    .dataframe tbody tr th:only-of-type {\n",
       "        vertical-align: middle;\n",
       "    }\n",
       "\n",
       "    .dataframe tbody tr th {\n",
       "        vertical-align: top;\n",
       "    }\n",
       "\n",
       "    .dataframe thead tr th {\n",
       "        text-align: left;\n",
       "    }\n",
       "\n",
       "    .dataframe thead tr:last-of-type th {\n",
       "        text-align: right;\n",
       "    }\n",
       "</style>\n",
       "<table border=\"1\" class=\"dataframe\">\n",
       "  <thead>\n",
       "    <tr>\n",
       "      <th></th>\n",
       "      <th>min</th>\n",
       "      <th>max</th>\n",
       "      <th>median</th>\n",
       "      <th>sum</th>\n",
       "      <th>count</th>\n",
       "      <th>avg</th>\n",
       "    </tr>\n",
       "    <tr>\n",
       "      <th></th>\n",
       "      <th>bill</th>\n",
       "      <th>bill</th>\n",
       "      <th>bill</th>\n",
       "      <th>bill</th>\n",
       "      <th>bill</th>\n",
       "      <th>bill</th>\n",
       "    </tr>\n",
       "    <tr>\n",
       "      <th>browser</th>\n",
       "      <th></th>\n",
       "      <th></th>\n",
       "      <th></th>\n",
       "      <th></th>\n",
       "      <th></th>\n",
       "      <th></th>\n",
       "    </tr>\n",
       "  </thead>\n",
       "  <tbody>\n",
       "    <tr>\n",
       "      <th>Chrome</th>\n",
       "      <td>45.0</td>\n",
       "      <td>1500.0</td>\n",
       "      <td>757.0</td>\n",
       "      <td>223460.0</td>\n",
       "      <td>290</td>\n",
       "      <td>770.55</td>\n",
       "    </tr>\n",
       "    <tr>\n",
       "      <th>Firefox</th>\n",
       "      <td>33.0</td>\n",
       "      <td>1496.0</td>\n",
       "      <td>812.5</td>\n",
       "      <td>224677.0</td>\n",
       "      <td>280</td>\n",
       "      <td>802.42</td>\n",
       "    </tr>\n",
       "    <tr>\n",
       "      <th>Internet Explorer</th>\n",
       "      <td>60.0</td>\n",
       "      <td>1477.0</td>\n",
       "      <td>683.0</td>\n",
       "      <td>94974.0</td>\n",
       "      <td>133</td>\n",
       "      <td>714.09</td>\n",
       "    </tr>\n",
       "    <tr>\n",
       "      <th>Opera</th>\n",
       "      <td>35.0</td>\n",
       "      <td>1493.0</td>\n",
       "      <td>840.0</td>\n",
       "      <td>129535.0</td>\n",
       "      <td>164</td>\n",
       "      <td>789.85</td>\n",
       "    </tr>\n",
       "  </tbody>\n",
       "</table>\n",
       "</div>"
      ],
      "text/plain": [
       "                    min     max median       sum count     avg\n",
       "                   bill    bill   bill      bill  bill    bill\n",
       "browser                                                       \n",
       "Chrome             45.0  1500.0  757.0  223460.0   290  770.55\n",
       "Firefox            33.0  1496.0  812.5  224677.0   280  802.42\n",
       "Internet Explorer  60.0  1477.0  683.0   94974.0   133  714.09\n",
       "Opera              35.0  1493.0  840.0  129535.0   164  789.85"
      ]
     },
     "execution_count": 6,
     "metadata": {},
     "output_type": "execute_result"
    }
   ],
   "source": [
    "# группировка по браузеру\n",
    "\n",
    "tbl_2 = pd.pivot_table(df, index='browser', values='bill', aggfunc=['min', 'max', 'median', 'sum', 'count'])\n",
    "tbl_2[('avg', 'bill')] = (tbl_2[('sum', 'bill')] / tbl_2[('count', 'bill')]).round(2)\n",
    "tbl_2\n"
   ]
  },
  {
   "cell_type": "code",
   "execution_count": 7,
   "id": "8b94c4de-311a-4f7c-af93-7caafb9feddb",
   "metadata": {
    "tags": []
   },
   "outputs": [
    {
     "data": {
      "text/html": [
       "<div>\n",
       "<style scoped>\n",
       "    .dataframe tbody tr th:only-of-type {\n",
       "        vertical-align: middle;\n",
       "    }\n",
       "\n",
       "    .dataframe tbody tr th {\n",
       "        vertical-align: top;\n",
       "    }\n",
       "\n",
       "    .dataframe thead tr th {\n",
       "        text-align: left;\n",
       "    }\n",
       "\n",
       "    .dataframe thead tr:last-of-type th {\n",
       "        text-align: right;\n",
       "    }\n",
       "</style>\n",
       "<table border=\"1\" class=\"dataframe\">\n",
       "  <thead>\n",
       "    <tr>\n",
       "      <th></th>\n",
       "      <th>min</th>\n",
       "      <th>max</th>\n",
       "      <th>median</th>\n",
       "      <th>sum</th>\n",
       "      <th>count</th>\n",
       "      <th>avg</th>\n",
       "    </tr>\n",
       "    <tr>\n",
       "      <th></th>\n",
       "      <th>bill</th>\n",
       "      <th>bill</th>\n",
       "      <th>bill</th>\n",
       "      <th>bill</th>\n",
       "      <th>bill</th>\n",
       "      <th>bill</th>\n",
       "    </tr>\n",
       "    <tr>\n",
       "      <th>sex</th>\n",
       "      <th></th>\n",
       "      <th></th>\n",
       "      <th></th>\n",
       "      <th></th>\n",
       "      <th></th>\n",
       "      <th></th>\n",
       "    </tr>\n",
       "  </thead>\n",
       "  <tbody>\n",
       "    <tr>\n",
       "      <th>female</th>\n",
       "      <td>33.0</td>\n",
       "      <td>1500.0</td>\n",
       "      <td>767.0</td>\n",
       "      <td>244236.0</td>\n",
       "      <td>317</td>\n",
       "      <td>770.46</td>\n",
       "    </tr>\n",
       "    <tr>\n",
       "      <th>male</th>\n",
       "      <td>34.0</td>\n",
       "      <td>1497.0</td>\n",
       "      <td>790.0</td>\n",
       "      <td>428410.0</td>\n",
       "      <td>550</td>\n",
       "      <td>778.93</td>\n",
       "    </tr>\n",
       "  </tbody>\n",
       "</table>\n",
       "</div>"
      ],
      "text/plain": [
       "         min     max median       sum count     avg\n",
       "        bill    bill   bill      bill  bill    bill\n",
       "sex                                                \n",
       "female  33.0  1500.0  767.0  244236.0   317  770.46\n",
       "male    34.0  1497.0  790.0  428410.0   550  778.93"
      ]
     },
     "execution_count": 7,
     "metadata": {},
     "output_type": "execute_result"
    }
   ],
   "source": [
    "# Группировка по полу\n",
    "\n",
    "tbl_3 = pd.pivot_table(df, index='sex', values='bill', aggfunc=['min', 'max', 'median', 'sum', 'count'])\n",
    "tbl_3[('avg', 'bill')] = (tbl_3[('sum', 'bill')] / tbl_3[('count', 'bill')]).round(2)\n",
    "tbl_3\n"
   ]
  },
  {
   "cell_type": "code",
   "execution_count": 8,
   "id": "5f0eeb9a-8861-40e0-a4cc-7e863ab69316",
   "metadata": {
    "tags": []
   },
   "outputs": [
    {
     "data": {
      "text/html": [
       "<div>\n",
       "<style scoped>\n",
       "    .dataframe tbody tr th:only-of-type {\n",
       "        vertical-align: middle;\n",
       "    }\n",
       "\n",
       "    .dataframe tbody tr th {\n",
       "        vertical-align: top;\n",
       "    }\n",
       "\n",
       "    .dataframe thead tr th {\n",
       "        text-align: left;\n",
       "    }\n",
       "\n",
       "    .dataframe thead tr:last-of-type th {\n",
       "        text-align: right;\n",
       "    }\n",
       "</style>\n",
       "<table border=\"1\" class=\"dataframe\">\n",
       "  <thead>\n",
       "    <tr>\n",
       "      <th></th>\n",
       "      <th>min</th>\n",
       "      <th>max</th>\n",
       "      <th>median</th>\n",
       "      <th>sum</th>\n",
       "      <th>count</th>\n",
       "      <th>avg</th>\n",
       "    </tr>\n",
       "    <tr>\n",
       "      <th></th>\n",
       "      <th>bill</th>\n",
       "      <th>bill</th>\n",
       "      <th>bill</th>\n",
       "      <th>bill</th>\n",
       "      <th>bill</th>\n",
       "      <th>bill</th>\n",
       "    </tr>\n",
       "    <tr>\n",
       "      <th>region</th>\n",
       "      <th></th>\n",
       "      <th></th>\n",
       "      <th></th>\n",
       "      <th></th>\n",
       "      <th></th>\n",
       "      <th></th>\n",
       "    </tr>\n",
       "  </thead>\n",
       "  <tbody>\n",
       "    <tr>\n",
       "      <th>?Havana</th>\n",
       "      <td>141.0</td>\n",
       "      <td>141.0</td>\n",
       "      <td>141.0</td>\n",
       "      <td>141.0</td>\n",
       "      <td>1</td>\n",
       "      <td>141.00</td>\n",
       "    </tr>\n",
       "    <tr>\n",
       "      <th>Aberdeen</th>\n",
       "      <td>232.0</td>\n",
       "      <td>232.0</td>\n",
       "      <td>232.0</td>\n",
       "      <td>232.0</td>\n",
       "      <td>1</td>\n",
       "      <td>232.00</td>\n",
       "    </tr>\n",
       "    <tr>\n",
       "      <th>Albany</th>\n",
       "      <td>1278.0</td>\n",
       "      <td>1278.0</td>\n",
       "      <td>1278.0</td>\n",
       "      <td>1278.0</td>\n",
       "      <td>1</td>\n",
       "      <td>1278.00</td>\n",
       "    </tr>\n",
       "    <tr>\n",
       "      <th>Altdorf</th>\n",
       "      <td>995.0</td>\n",
       "      <td>1441.0</td>\n",
       "      <td>1218.0</td>\n",
       "      <td>2436.0</td>\n",
       "      <td>2</td>\n",
       "      <td>1218.00</td>\n",
       "    </tr>\n",
       "    <tr>\n",
       "      <th>Amenia</th>\n",
       "      <td>1044.0</td>\n",
       "      <td>1330.0</td>\n",
       "      <td>1187.0</td>\n",
       "      <td>2374.0</td>\n",
       "      <td>2</td>\n",
       "      <td>1187.00</td>\n",
       "    </tr>\n",
       "    <tr>\n",
       "      <th>...</th>\n",
       "      <td>...</td>\n",
       "      <td>...</td>\n",
       "      <td>...</td>\n",
       "      <td>...</td>\n",
       "      <td>...</td>\n",
       "      <td>...</td>\n",
       "    </tr>\n",
       "    <tr>\n",
       "      <th>Woodford County</th>\n",
       "      <td>1217.0</td>\n",
       "      <td>1217.0</td>\n",
       "      <td>1217.0</td>\n",
       "      <td>1217.0</td>\n",
       "      <td>1</td>\n",
       "      <td>1217.00</td>\n",
       "    </tr>\n",
       "    <tr>\n",
       "      <th>Worcester</th>\n",
       "      <td>223.0</td>\n",
       "      <td>1262.0</td>\n",
       "      <td>742.5</td>\n",
       "      <td>1485.0</td>\n",
       "      <td>2</td>\n",
       "      <td>742.50</td>\n",
       "    </tr>\n",
       "    <tr>\n",
       "      <th>Yoevil</th>\n",
       "      <td>128.0</td>\n",
       "      <td>128.0</td>\n",
       "      <td>128.0</td>\n",
       "      <td>128.0</td>\n",
       "      <td>1</td>\n",
       "      <td>128.00</td>\n",
       "    </tr>\n",
       "    <tr>\n",
       "      <th>Youngstown</th>\n",
       "      <td>371.0</td>\n",
       "      <td>1346.0</td>\n",
       "      <td>730.5</td>\n",
       "      <td>3178.0</td>\n",
       "      <td>4</td>\n",
       "      <td>794.50</td>\n",
       "    </tr>\n",
       "    <tr>\n",
       "      <th>Zurich</th>\n",
       "      <td>178.0</td>\n",
       "      <td>1455.0</td>\n",
       "      <td>556.0</td>\n",
       "      <td>2745.0</td>\n",
       "      <td>4</td>\n",
       "      <td>686.25</td>\n",
       "    </tr>\n",
       "  </tbody>\n",
       "</table>\n",
       "<p>297 rows × 6 columns</p>\n",
       "</div>"
      ],
      "text/plain": [
       "                    min     max  median     sum count      avg\n",
       "                   bill    bill    bill    bill  bill     bill\n",
       "region                                                        \n",
       "?Havana           141.0   141.0   141.0   141.0     1   141.00\n",
       "Aberdeen          232.0   232.0   232.0   232.0     1   232.00\n",
       "Albany           1278.0  1278.0  1278.0  1278.0     1  1278.00\n",
       "Altdorf           995.0  1441.0  1218.0  2436.0     2  1218.00\n",
       "Amenia           1044.0  1330.0  1187.0  2374.0     2  1187.00\n",
       "...                 ...     ...     ...     ...   ...      ...\n",
       "Woodford County  1217.0  1217.0  1217.0  1217.0     1  1217.00\n",
       "Worcester         223.0  1262.0   742.5  1485.0     2   742.50\n",
       "Yoevil            128.0   128.0   128.0   128.0     1   128.00\n",
       "Youngstown        371.0  1346.0   730.5  3178.0     4   794.50\n",
       "Zurich            178.0  1455.0   556.0  2745.0     4   686.25\n",
       "\n",
       "[297 rows x 6 columns]"
      ]
     },
     "execution_count": 8,
     "metadata": {},
     "output_type": "execute_result"
    }
   ],
   "source": [
    "# группировка по региону\n",
    "\n",
    "tbl_4 = pd.pivot_table(df, index='region', values='bill', aggfunc=['min', 'max', 'median', 'sum', 'count'])\n",
    "tbl_4[('avg', 'bill')] = (tbl_4[('sum', 'bill')] / tbl_4[('count', 'bill')]).round(2)\n",
    "tbl_4"
   ]
  },
  {
   "cell_type": "markdown",
   "id": "304af569-e292-4bb6-ab86-60ffbb147eb1",
   "metadata": {},
   "source": [
    "Задание 3\n",
    "\n",
    "Оцените зависимость суммы покупки от региона. Выполните визуализацию результатов анализа зависимости. Чтобы выполнить задание, можно использовать библиотеки Seaborn или Plotly (по вашему выбору)."
   ]
  },
  {
   "cell_type": "code",
   "execution_count": 10,
   "id": "cdbe64ad-2295-4114-9093-eb0a03074d62",
   "metadata": {
    "tags": []
   },
   "outputs": [
    {
     "data": {
      "text/plain": [
       "count     867.000000\n",
       "mean      775.831603\n",
       "std       412.393220\n",
       "min        33.000000\n",
       "25%       423.500000\n",
       "50%       777.000000\n",
       "75%      1140.500000\n",
       "max      1500.000000\n",
       "Name: bill, dtype: float64"
      ]
     },
     "execution_count": 10,
     "metadata": {},
     "output_type": "execute_result"
    }
   ],
   "source": [
    "\n",
    "# характеристика чеков\n",
    "\n",
    "df['bill'].describe()"
   ]
  },
  {
   "cell_type": "code",
   "execution_count": 11,
   "id": "90b055d3-55ab-4e5c-98c3-528c2a089ae9",
   "metadata": {
    "tags": []
   },
   "outputs": [
    {
     "data": {
      "image/png": "[encoded data removed]",
      "text/plain": [
       "<Figure size 432x288 with 1 Axes>"
      ]
     },
     "metadata": {
      "needs_background": "light"
     },
     "output_type": "display_data"
    }
   ],
   "source": [
    "plt.boxplot(df['bill'].dropna())\n",
    "plt.title(\"Boxplot для столбца 'bill'\")\n",
    "plt.show()"
   ]
  },
  {
   "cell_type": "code",
   "execution_count": 12,
   "id": "e0439738-292c-4d04-b76f-a47f9ae678e0",
   "metadata": {
    "tags": []
   },
   "outputs": [
    {
     "data": {
      "image/png": "[encoded data removed]",
      "text/plain": [
       "<Figure size 720x432 with 1 Axes>"
      ]
     },
     "metadata": {
      "needs_background": "light"
     },
     "output_type": "display_data"
    }
   ],
   "source": [
    "# Построение гистограммы для количественной переменной \"bill\"\n",
    "plt.figure(figsize=(10, 6))\n",
    "sns.histplot(df['bill'].dropna(), kde=False, bins=30, color='blue', label='Данные')\n",
    "\n",
    "# Наложение нормального распределения\n",
    "mean, std = np.mean(df['bill'].dropna()), np.std(df['bill'].dropna())\n",
    "x = np.linspace(min(df['bill'].dropna()), max(df['bill'].dropna()), 100)\n",
    "pdf = norm.pdf(x, mean, std)\n",
    "plt.plot(x, pdf * len(df['bill'].dropna()) * (max(df['bill']) - min(df['bill'])) / 30, \n",
    "         color='red', label='Нормальное распределение')\n",
    "\n",
    "plt.title(\"Наложение распределения переменной 'bill' на нормальное распределение\")\n",
    "plt.xlabel(\"Сумма покупки (bill)\")\n",
    "plt.ylabel(\"Частота\")\n",
    "plt.legend()\n",
    "plt.show()"
   ]
  },
  {
   "cell_type": "markdown",
   "id": "51c8d99d-ec95-4120-8f57-602fb0edab99",
   "metadata": {},
   "source": [
    "Распределение суммы покупок не идеально нормальное, но в центральной части данные приближены к нормальному распределению. Асимметрия и выбросы могут влиять на использование статистических методов, зависящих от нормальности."
   ]
  },
  {
   "cell_type": "code",
   "execution_count": 18,
   "id": "076fef13-64c3-41bc-bd9a-535e04dd5728",
   "metadata": {
    "tags": []
   },
   "outputs": [
    {
     "data": {
      "text/plain": [
       "<BarContainer object of 21 artists>"
      ]
     },
     "execution_count": 18,
     "metadata": {},
     "output_type": "execute_result"
    },
    {
     "data": {
      "image/png": "[encoded data removed]",
      "text/plain": [
       "<Figure size 432x288 with 1 Axes>"
      ]
     },
     "metadata": {
      "needs_background": "light"
     },
     "output_type": "display_data"
    }
   ],
   "source": [
    "# топ-20 лучших регионов по сумме чека\n",
    "\n",
    "plt.barh(tbl_4.index[-21:], tbl_4[('sum', 'bill')][-21:])"
   ]
  },
  {
   "cell_type": "markdown",
   "id": "e50ded58-f6c2-416a-8f6a-5a965abecb22",
   "metadata": {},
   "source": [
    "Нью-Йорк однозначный лидер, далее идёт Лондон и Монреал. Остальные, в целом, распределены умеренно одинаково "
   ]
  },
  {
   "cell_type": "code",
   "execution_count": 19,
   "id": "0f73b5aa-9a67-4a4a-8309-87eb6dbbe48d",
   "metadata": {
    "tags": []
   },
   "outputs": [
    {
     "data": {
      "text/plain": [
       "<BarContainer object of 21 artists>"
      ]
     },
     "execution_count": 19,
     "metadata": {},
     "output_type": "execute_result"
    },
    {
     "data": {
      "image/png": "[encoded data removed]",
      "text/plain": [
       "<Figure size 432x288 with 1 Axes>"
      ]
     },
     "metadata": {
      "needs_background": "light"
     },
     "output_type": "display_data"
    }
   ],
   "source": [
    "# топ-20 худших регионов по сумме чека\n",
    "\n",
    "plt.barh(tbl_4.index[:21], tbl_4[('sum', 'bill')][:21])"
   ]
  },
  {
   "cell_type": "markdown",
   "id": "d1710342-6a64-4765-9711-e6aa548811e7",
   "metadata": {},
   "source": [
    "Задание 4\n",
    "Определите совокупность факторов, которые положительно и отрицательно влияют на сумму покупки. Сформулируйте рекомендации по кратному увеличению продаж с учётом полученных результатов. Выполните визуализацию результатов анализа зависимости. Чтобы выполнить задание, можно использовать библиотеки Pandas и Seaborn или Plotly (по вашему выбору)."
   ]
  },
  {
   "cell_type": "code",
   "execution_count": 21,
   "id": "6bdba088-ac12-4d6f-8f74-5f566ea28043",
   "metadata": {
    "tags": []
   },
   "outputs": [
    {
     "data": {
      "text/plain": [
       "<BarContainer object of 2 artists>"
      ]
     },
     "execution_count": 21,
     "metadata": {},
     "output_type": "execute_result"
    },
    {
     "data": {
      "image/png": "[encoded data removed]",
      "text/plain": [
       "<Figure size 432x288 with 1 Axes>"
      ]
     },
     "metadata": {
      "needs_background": "light"
     },
     "output_type": "display_data"
    }
   ],
   "source": [
    "# распределение суммы покупки по типу устройства\n",
    "\n",
    "plt.barh(tbl_1.index, tbl_1[('sum', 'bill')])\n",
    "\n",
    "# распределение суммы покупки по браузерам\n",
    "\n",
    "plt.barh(tbl_2.index, tbl_2[('sum', 'bill')])\n",
    "\n",
    "# распределение суммы покупки по полу\n",
    "\n",
    "plt.barh(tbl_3.index, tbl_3[('sum', 'bill')])"
   ]
  },
  {
   "cell_type": "code",
   "execution_count": 24,
   "id": "c8590e4a-ec29-4563-a3b7-9d198c1c2013",
   "metadata": {
    "tags": []
   },
   "outputs": [
    {
     "name": "stdout",
     "output_type": "stream",
     "text": [
      "Результаты дисперсионного анализа:\n",
      "                      sum_sq     df         F    PR(>F)\n",
      "C(sex)          4.748640e+03    1.0  0.027910  0.867361\n",
      "C(device_type)  3.743547e+05    3.0  0.733409  0.532206\n",
      "C(browser)      6.895922e+05    3.0  1.350999  0.256559\n",
      "Residual        1.461535e+08  859.0       NaN       NaN\n"
     ]
    }
   ],
   "source": [
    "# Дисперсионный анализ (ANOVA)\n",
    "# Формируем модель зависимости суммы покупок (bill) от пола, типа устройства и браузера\n",
    "model = ols('bill ~ C(sex) + C(device_type) + C(browser)', data=df).fit()\n",
    "anova_table = sm.stats.anova_lm(model, typ=2)\n",
    "\n",
    "# Вывод результатов ANOVA\n",
    "print(\"Результаты дисперсионного анализа:\")\n",
    "print(anova_table)"
   ]
  },
  {
   "cell_type": "markdown",
   "id": "a26ab22d-6220-4166-a590-d1745ce09dc2",
   "metadata": {},
   "source": [
    "Выводы\n",
    "\n",
    "Пол\n",
    "p-value = 0.867361 (значительно больше 0.05).\n",
    "Не оказывает значимого влияния на сумму покупок. Различия в среднем чеке между мужчинами и женщинами статистически не подтверждаются. Поэтому учитывать гендерные предпочтения в данном случае не требуется.\n",
    "\n",
    "Тип устройства\n",
    "p-value = 0.532206 (также больше 0.05).\n",
    "Не оказывает значимого влияния на сумму чека. Это говорит о том, что все устройства приносят примерно одинаковый вклад в общую сумму покупок. Оптимизация под конкретные устройства не принесёт значимых улучшений.\n",
    "\n",
    "Браузер\n",
    "p-value = 0.256559 (больше 0.05).\n",
    "Также не оказывает статистически значимого влияния на сумму покупок. Таргетирование пользователей на основе браузера не является эффективной стратегией.\n",
    "\n",
    "\n",
    "Рекомендации: \n",
    "Рассмотреть другие возможные переменные (например, регион, время покупки, категория товаров) для объяснения вариаций суммы чека.\n",
    "\n",
    "\n",
    "Провести кластерный анализ, чтобы выделить группы клиентов с разными поведениями.\n",
    "\n",
    "\n",
    "Использовать методы машинного обучения для изучения нелинейных взаимосвязей между переменными."
   ]
  },
  {
   "cell_type": "code",
   "execution_count": null,
   "id": "82ae7433-2373-436b-a383-ee05044a8c57",
   "metadata": {},
   "outputs": [],
   "source": []
  }
 ],
 "metadata": {
  "kernelspec": {
   "display_name": "Python 3",
   "language": "python",
   "name": "python3"
  },
  "language_info": {
   "codemirror_mode": {
    "name": "ipython",
    "version": 3
   },
   "file_extension": ".py",
   "mimetype": "text/x-python",
   "name": "python",
   "nbconvert_exporter": "python",
   "pygments_lexer": "ipython3",
   "version": "3.7.2"
  }
 },
 "nbformat": 4,
 "nbformat_minor": 5
}
