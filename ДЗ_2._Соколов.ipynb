{
 "cells": [
  {
   "cell_type": "code",
   "execution_count": null,
   "id": "bd907af2-2709-4eb1-82df-16aa09ca4939",
   "metadata": {
    "tags": []
   },
   "outputs": [
    {
     "name": "stdout",
     "output_type": "stream",
     "text": [
      "Введите год: 2024\n"
     ]
    },
    {
     "name": "stdout",
     "output_type": "stream",
     "text": [
      "2024 является високосным\n"
     ]
    }
   ],
   "source": [
    "#Задание 1. Сначала нам нужно ввести год\n",
    "year=int(input(\"Введите год:\"))\n",
    "#Введем условие. Год считается високосным, если он делится на 4, но не делится на 100, за исключением годов, которые делятся на 400\n",
    "if (year%4==0 and year%100!=0) or (year%400==0):\n",
    "    print(f\"{year} является високосным\")\n",
    "else: \n",
    "    print(f\"{year} не является високосным\")"
   ]
  },
  {
   "cell_type": "code",
   "execution_count": 15,
   "id": "4641a8f7-195d-4131-954b-7a1681e79dd2",
   "metadata": {
    "tags": []
   },
   "outputs": [
    {
     "name": "stdout",
     "output_type": "stream",
     "text": [
      "Введите шестизначное число билета и узнайте, является ли он счастливым 12343-\n"
     ]
    },
    {
     "name": "stdout",
     "output_type": "stream",
     "text": [
      "Введите корректное шестизначное число\n"
     ]
    }
   ],
   "source": [
    "#Задание 2. Сначала нам нужно ввести шестизначное число\n",
    "ticket=(input(\"Введите шестизначное число билета и узнайте, является ли он счастливым\"))\n",
    "#Число является шестизначным, проверка\n",
    "if len(ticket)==6 and ticket.isdigit():\n",
    "    #разбиваем на части\n",
    "    first_half=ticket[:3]\n",
    "    second_half=ticket[3:]\n",
    "    #считаем суммы цифр в каждой половине \n",
    "    sum_first_half=int(first_half[0])+int(first_half[1])+int(first_half[2])\n",
    "    sum_second_half=int(second_half[0])+int(second_half[1])+int(second_half[2])\n",
    "    #узнаем счастливый ли билет \n",
    "    if sum_first_half==sum_second_half:\n",
    "        print(\"Ваш билет счастливый!\")\n",
    "    else:\n",
    "        print(\"Ваш билет несчастливый(\")\n",
    "else:\n",
    "        print(\"Введите корректное шестизначное число\")\n",
    "    "
   ]
  },
  {
   "cell_type": "code",
   "execution_count": null,
   "id": "5702f471-2e4b-43fd-a629-810a2ee8a342",
   "metadata": {},
   "outputs": [],
   "source": []
  }
 ],
 "metadata": {
  "kernelspec": {
   "display_name": "Python 3",
   "language": "python",
   "name": "python3"
  },
  "language_info": {
   "codemirror_mode": {
    "name": "ipython",
    "version": 3
   },
   "file_extension": ".py",
   "mimetype": "text/x-python",
   "name": "python",
   "nbconvert_exporter": "python",
   "pygments_lexer": "ipython3",
   "version": "3.7.2"
  }
 },
 "nbformat": 4,
 "nbformat_minor": 5
}
